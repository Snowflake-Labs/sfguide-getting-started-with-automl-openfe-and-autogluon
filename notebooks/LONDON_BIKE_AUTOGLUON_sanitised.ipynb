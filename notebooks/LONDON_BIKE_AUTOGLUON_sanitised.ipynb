{
 "cells": [
  {
   "cell_type": "markdown",
   "id": "f4d99ace",
   "metadata": {},
   "source": [
    "# AutoML end-to-end with OpenFE and AutoGluon\n",
    "This example notebook uses [AutoGluon](https://auto.gluon.ai/dev/index.html) and the training table data. \n",
    "\n",
    "The dataset based on the [London Bike Dataset](hhttps://www.kaggle.com/datasets/kalacheva/london-bike-share-usage-dataset)\n",
    "\n",
    "This notebook uses the AutoGluon TimeSeries API to predict hourly bike rentals at Hyde Park Corner."
   ]
  },
  {
   "cell_type": "markdown",
   "id": "e6001241",
   "metadata": {},
   "source": [
    "# UNSUPPORTED BY SNOWFLAKE - CUSTOMER SUPPORTED ONLY\n",
    "\n",
    "# Copyright (c) 2025 Snowflake Inc. All rights reserved."
   ]
  },
  {
   "cell_type": "code",
   "execution_count": null,
   "id": "4799186f",
   "metadata": {},
   "outputs": [],
   "source": [
    "# save a list of the current packages, so we can filter them out later when deploying\n",
    "!pip freeze > original_packages.txt"
   ]
  },
  {
   "cell_type": "code",
   "execution_count": null,
   "id": "f01ad9ef-da59-42ef-890d-c66a8e1f52b2",
   "metadata": {
    "collapsed": false,
    "language": "python",
    "name": "cell5"
   },
   "outputs": [],
   "source": [
    "# This notebook can execute either in Contain Notebooks or externally in a Python environment.\n",
    "# Depending on how you run this notebook, you will need to uncomment/comment the appropriate lines of code below. \n",
    "\n",
    "# For Container Notebooks, uncomment lines 6 to 11.\n",
    "# Import python packages\n",
    "#import streamlit as st\n",
    "#import pandas as pd\n",
    "\n",
    "# We can also use Snowpark for our analyses!\n",
    "#from snowflake.snowpark.context import get_active_session\n",
    "#session = get_active_session()\n",
    "\n",
    "# For external Python environments, uncomment lines 15 to 24.\n",
    "from snowflake.snowpark import Session\n",
    "connection_parameters = {\n",
    "      \"account\": \"\",\n",
    "      \"user\": \"\",\n",
    "      \"password\": \"\",\n",
    "      \"role\": \"\",\n",
    "      \"warehouse\": \"\",\n",
    "      \"database\": \"\",\n",
    "      \"schema\": \"\"\n",
    "    }\n",
    "session = Session.builder.configs(connection_parameters).create()"
   ]
  },
  {
   "cell_type": "code",
   "execution_count": null,
   "id": "56140f7c",
   "metadata": {},
   "outputs": [],
   "source": [
    "# Load data from Snowflake\n",
    "data = session.table('HYDE_PARK_CORNER_20150501_20150615_HOURLY').to_pandas()\n",
    "print(data.head())"
   ]
  },
  {
   "cell_type": "code",
   "execution_count": null,
   "id": "3e7ddba9-651a-473e-a533-d3b3baad0dbf",
   "metadata": {
    "collapsed": false,
    "language": "python",
    "name": "cell6"
   },
   "outputs": [],
   "source": [
    "# split the data into train and test sets\n",
    "import pandas as pd\n",
    "\n",
    "def train_test_split_sequential(df, test_size=0.2):\n",
    "    \"\"\"Splits a DataFrame into train and test sets sequentially.\n",
    "\n",
    "    Args:\n",
    "        df (pd.DataFrame): The input DataFrame.\n",
    "        test_size (float): The proportion of the dataset to include in the test split.\n",
    "\n",
    "    Returns:\n",
    "        tuple: A tuple containing the train and test DataFrames.\n",
    "    \"\"\"\n",
    "    if not 0 < test_size < 1:\n",
    "        raise ValueError(\"test_size must be between 0 and 1\")\n",
    "\n",
    "    test_index = int(len(df) * (1 - test_size))\n",
    "\n",
    "    train_df = df.iloc[:test_index].copy()\n",
    "    test_df = df.iloc[test_index:].copy()\n",
    "\n",
    "    return train_df, test_df\n",
    "\n",
    "train_df, test_df = train_test_split_sequential(data, test_size=0.2)"
   ]
  },
  {
   "cell_type": "code",
   "execution_count": null,
   "id": "f0d1cde3-352b-4d30-90b5-575eaff426a6",
   "metadata": {
    "codeCollapsed": true,
    "collapsed": true,
    "language": "python",
    "name": "cell7"
   },
   "outputs": [],
   "source": [
    "# install autogluon packages\n",
    "%pip install autogluon==1.2 autogluon.common==1.2 autogluon.core==1.2 autogluon.features==1.2 autogluon.multimodal==1.2 autogluon.tabular==1.2 autogluon.timeseries==1.2 --quiet"
   ]
  },
  {
   "cell_type": "code",
   "execution_count": null,
   "id": "96502879-829f-4c7a-8f47-ad4e8df45d21",
   "metadata": {
    "collapsed": false,
    "language": "python",
    "name": "cell8"
   },
   "outputs": [],
   "source": [
    "# if executing in a Python environment, restart the kernel to avoid conflicts with the installed packages\n",
    "%restart_python"
   ]
  },
  {
   "cell_type": "code",
   "execution_count": null,
   "id": "f51a3280-ea30-4f20-92af-6d176d465f4c",
   "metadata": {
    "collapsed": false,
    "language": "python",
    "name": "cell9"
   },
   "outputs": [],
   "source": [
    "# define the time series data frame time and id columns\n",
    "from autogluon.timeseries import TimeSeriesDataFrame, TimeSeriesPredictor\n",
    "train_data = TimeSeriesDataFrame.from_data_frame(\n",
    "    train_df,\n",
    "    id_column=\"START_STATION_NAME\",\n",
    "    timestamp_column=\"TS\"\n",
    ")\n",
    "train_data.head()"
   ]
  },
  {
   "cell_type": "code",
   "execution_count": null,
   "id": "064c99d1-2910-43de-b375-4f7f05f0eedc",
   "metadata": {
    "codeCollapsed": false,
    "collapsed": true,
    "language": "python",
    "name": "cell10"
   },
   "outputs": [],
   "source": [
    "# fit the time series predictor, forcasting horizon of 48 hours and prediction target of NUMRENTALS\n",
    "predictor = TimeSeriesPredictor(\n",
    "    prediction_length=48,\n",
    "    path=\"autogluon-hourly\",\n",
    "    target=\"NUMRENTALS\",\n",
    "    eval_metric=\"MAPE\",\n",
    ")\n",
    "\n",
    "# Note: the excluded models are added as the brackets need to be escaped in the string and cause issues later.\n",
    "y = predictor.fit(\n",
    "    train_data,\n",
    "    presets=\"best_training\",\n",
    "    time_limit=600,\n",
    "    excluded_model_types=[\"ChronosZeroShot[bolt_base]\", \"ChronosFineTuned[bolt_small]\"],\n",
    ")"
   ]
  },
  {
   "cell_type": "code",
   "execution_count": null,
   "id": "cbc2c1ba-c8ff-45aa-afcf-a44cc60cf066",
   "metadata": {
    "codeCollapsed": false,
    "collapsed": true,
    "language": "python",
    "name": "cell11"
   },
   "outputs": [],
   "source": [
    "# make predictions\n",
    "predictions = predictor.predict(train_data)\n",
    "predictions"
   ]
  },
  {
   "cell_type": "code",
   "execution_count": null,
   "id": "8626e23e-62c2-42ae-8f98-21c5f9d176aa",
   "metadata": {
    "collapsed": false,
    "language": "python",
    "name": "cell12"
   },
   "outputs": [],
   "source": [
    "predictions.to_csv(\"predictions.csv\")"
   ]
  },
  {
   "cell_type": "code",
   "execution_count": null,
   "id": "e9356af7-6d83-43d0-be61-1257ed62a79b",
   "metadata": {
    "codeCollapsed": false,
    "collapsed": true,
    "language": "python",
    "name": "cell13"
   },
   "outputs": [],
   "source": [
    "import pandas as pd\n",
    "df1 = pd.read_csv(\"predictions.csv\")\n",
    "df1"
   ]
  },
  {
   "cell_type": "code",
   "execution_count": null,
   "id": "43bed645-112d-4b80-bd54-a32b1cbaccad",
   "metadata": {
    "collapsed": false,
    "language": "python",
    "name": "cell14"
   },
   "outputs": [],
   "source": [
    "predictor.save()"
   ]
  },
  {
   "cell_type": "markdown",
   "id": "0137e286",
   "metadata": {},
   "source": [
    "## Model Registry"
   ]
  },
  {
   "cell_type": "code",
   "execution_count": null,
   "id": "ecd62313-3b87-43df-9620-316bba4fb756",
   "metadata": {
    "collapsed": false,
    "language": "python",
    "name": "cell15"
   },
   "outputs": [],
   "source": [
    "from autogluon.timeseries import TimeSeriesPredictor\n",
    "from autogluon.features.generators import AutoMLPipelineFeatureGenerator\n",
    "import json\n",
    "\n",
    "from snowflake.ml.registry import Registry\n",
    "from snowflake.ml.model import custom_model\n",
    "from snowflake.ml.model import model_signature\n",
    "native_registry = Registry(session=session)\n",
    "#model_name = Notebook_name+\"_\"+predictor.model_best+\"_model\"\n",
    "\n",
    "model_name='HYDE_PARK_CORNER_HOURLY'"
   ]
  },
  {
   "cell_type": "code",
   "execution_count": null,
   "id": "6ac61e98-0119-4b67-9a16-b5157a740064",
   "metadata": {
    "collapsed": false,
    "language": "python",
    "name": "cell17"
   },
   "outputs": [],
   "source": [
    "path1 = \"/home/app/autogluon-hourly\"\n",
    "p = TimeSeriesPredictor.load(path1, require_version_match=False)"
   ]
  },
  {
   "cell_type": "code",
   "execution_count": null,
   "id": "3a44b3f8-b1b5-4a1e-aee1-672f4226c876",
   "metadata": {
    "codeCollapsed": false,
    "collapsed": true,
    "language": "python",
    "name": "cell18"
   },
   "outputs": [],
   "source": [
    "p"
   ]
  },
  {
   "cell_type": "code",
   "execution_count": null,
   "id": "1428cfb4-1656-4ccb-89f6-fd2452e9f7bb",
   "metadata": {
    "collapsed": false,
    "language": "python",
    "name": "cell16"
   },
   "outputs": [],
   "source": [
    "# as we are using a custom model we need to define the input and output schema\n",
    "class AutoGluonModel(custom_model.CustomModel):\n",
    "    def __init__(self, context: custom_model.ModelContext) -> None:\n",
    "        super().__init__(context)\n",
    "        path = self.context.path(\"model_dir\")\n",
    "        # path = \"/Workspace/Users/mehernosh.garda@snowflake.com/autogluon-hourly\"\n",
    "        self.predictor = TimeSeriesPredictor.load(path, require_version_match=False)\n",
    "    \n",
    "    @custom_model.inference_api\n",
    "    def predict(self, input_pdf: pd.DataFrame) -> pd.DataFrame:\n",
    "        input_data = TimeSeriesDataFrame.from_data_frame(\n",
    "            input_pdf,\n",
    "            id_column=\"START_STATION_NAME\",\n",
    "            timestamp_column=\"TS\"\n",
    "        )\n",
    "        predicted_timeseries_output = self.predictor.predict(input_data)\n",
    "        return predicted_timeseries_output.to_data_frame()\n",
    "        \n",
    "\n",
    "# Create ModelContext that points to our model file\n",
    "autogluon_mc = custom_model.ModelContext(\n",
    "\tmodels={ # This should be for models that is supported by Model Registry\n",
    "\t},\n",
    "\tartifacts={ # Everything not supported needs to be here\n",
    "\t\t'model_dir': \"/home/app/autogluon-hourly\"\n",
    "\t}\n",
    ")\n",
    "\n",
    "autogluon_custom_model = AutoGluonModel(autogluon_mc)"
   ]
  },
  {
   "cell_type": "code",
   "execution_count": null,
   "id": "b2ad4ab3-425a-4423-9f9e-d963b41c5e45",
   "metadata": {
    "codeCollapsed": false,
    "collapsed": true,
    "language": "python",
    "name": "cell19"
   },
   "outputs": [],
   "source": [
    "train_df.columns = map(lambda x: str(x).upper(), train_df.columns)\n",
    "train_df\n",
    "\n",
    "from snowflake.snowpark.types import IntegerType, StringType, StructType, StructField\n",
    "myschema = StructType([StructField(\"START_STATION_NAME\", StringType()), StructField(\"TS\", StringType()), StructField(\"NUMRENTALS\", IntegerType())])\n",
    "df4 = session.create_dataframe(train_df, myschema)\n",
    "df4.show()\n",
    "\n",
    "df4.write.mode(\"overwrite\").save_as_table(\"HYDE_PARK_CORNER_20150501_20150615_HOURLY_train_df_feb242025\")\n"
   ]
  },
  {
   "cell_type": "code",
   "execution_count": null,
   "id": "ba2f6ae7-c418-434d-a4c8-a14de85feefc",
   "metadata": {
    "collapsed": false,
    "language": "python",
    "name": "cell20"
   },
   "outputs": [],
   "source": [
    "# df1 contains the predicted dataframe\n",
    "# input is train_df\n",
    "# output is df1\n",
    "predict_sign = model_signature.infer_signature(input_data=train_df, output_data=df1)"
   ]
  },
  {
   "cell_type": "code",
   "execution_count": null,
   "id": "72aa9217-fb07-475a-a480-70ec1ae3b400",
   "metadata": {
    "collapsed": false,
    "language": "python",
    "name": "cell21"
   },
   "outputs": [],
   "source": [
    "predict_sign"
   ]
  },
  {
   "cell_type": "code",
   "execution_count": null,
   "id": "84658308-a92d-4352-b5df-52f409d1b64e",
   "metadata": {
    "collapsed": false,
    "language": "python",
    "name": "cell22"
   },
   "outputs": [],
   "source": [
    "# so the model can be deployed correctly we need to identify what additional packages are required \n",
    "!pip freeze > installed_packages.txt\n",
    "\n",
    "!diff -u0 original_packages.txt installed_packages.txt | grep -e \"^+[a-zA-Z]\" > new_packages.txt"
   ]
  },
  {
   "cell_type": "code",
   "execution_count": null,
   "id": "8fa8b1dd-f1fb-4ebf-b11f-3545e716baed",
   "metadata": {
    "collapsed": false,
    "language": "python",
    "name": "cell23"
   },
   "outputs": [],
   "source": [
    "# create a list of the packages that are required\n",
    "with open('new_packages.txt') as f:\n",
    "    need = f.read().splitlines()\n",
    "\n",
    "packages_needed = [x.replace('+', '').replace(' ', '') for x in need ]"
   ]
  },
  {
   "cell_type": "code",
   "execution_count": null,
   "id": "ce5dc339-de6c-4d79-8b12-cb754c445c90",
   "metadata": {
    "collapsed": false,
    "language": "python",
    "name": "cell27"
   },
   "outputs": [],
   "source": [
    "native_registry.show_models()"
   ]
  },
  {
   "cell_type": "code",
   "execution_count": null,
   "id": "f493408d-6468-44c5-8e78-d68ade381e56",
   "metadata": {
    "collapsed": false,
    "language": "python",
    "name": "cell25"
   },
   "outputs": [],
   "source": [
    "# register the model\n",
    "model_name='HYDE_PARK_CORNER_HOURLY'\n",
    "\n",
    "mv = native_registry.log_model(\n",
    "    autogluon_custom_model,\n",
    "    model_name=model_name,\n",
    "    pip_requirements=packages_needed,\n",
    "    signatures={\n",
    "        \"predict\": predict_sign\n",
    "    },\n",
    ")"
   ]
  },
  {
   "cell_type": "code",
   "execution_count": null,
   "id": "44f954b3-6385-4745-a9aa-3b620706d0fa",
   "metadata": {
    "collapsed": false,
    "language": "python",
    "name": "cell24"
   },
   "outputs": [],
   "source": [
    "from snowflake.ml.registry import Registry\n",
    "native_registry = Registry(session=session)\n",
    "model_name='HYDE_PARK_CORNER_HOURLY'\n",
    "# get the model versions\n",
    "mr = native_registry.get_model(model_name)\n",
    "version_df = mr.show_versions()\n",
    "version_df.head()"
   ]
  },
  {
   "cell_type": "code",
   "execution_count": null,
   "id": "5bdd3725-a71a-4cb0-b48b-0d067cb3fc2e",
   "metadata": {
    "collapsed": false,
    "language": "python",
    "name": "cell29"
   },
   "outputs": [],
   "source": [
    "# get the latest version\n",
    "last_version_name = version_df['name'].iloc[-1]\n",
    "latest_version = mr.version(last_version_name)"
   ]
  },
  {
   "cell_type": "code",
   "execution_count": null,
   "id": "819a6042-588a-4c36-bd07-c4f7b42ebb99",
   "metadata": {
    "collapsed": false,
    "language": "python",
    "name": "cell30"
   },
   "outputs": [],
   "source": [
    "latest_version"
   ]
  },
  {
   "cell_type": "markdown",
   "id": "b4024757",
   "metadata": {},
   "source": [
    "## Snowpark Container Services"
   ]
  },
  {
   "cell_type": "code",
   "execution_count": null,
   "id": "e7c9e4c8-2a2f-4e3e-82db-746e98999c6d",
   "metadata": {
    "collapsed": false,
    "language": "python",
    "name": "cell31"
   },
   "outputs": [],
   "source": [
    "# spcs deployment details\n",
    "compute_pool_name = \"LONDON_BIKE_INFERENCE_CP\"\n",
    "image_repo_name = f\"<db>.<schema>.REPOSITORY\"\n",
    "num_spcs_nodes = '1'\n",
    "spcs_instance_family = 'CPU_X64_M'\n",
    "service_name_without_namespace = 'LONDON_BIKE_INFERENCE_SERVICE'\n",
    "service_name = f'<db>.<schema>.{service_name_without_namespace}'\n",
    "print(service_name)"
   ]
  },
  {
   "cell_type": "code",
   "execution_count": null,
   "id": "437d870a-5032-4906-ab02-0d0f9a68a442",
   "metadata": {
    "collapsed": false,
    "language": "python",
    "name": "cell32"
   },
   "outputs": [],
   "source": [
    "# create compute pool\n",
    "session.sql(f\"create compute pool if not exists {compute_pool_name} \\\n",
    "            min_nodes={num_spcs_nodes} \\\n",
    "            max_nodes={num_spcs_nodes} \\\n",
    "            instance_family={spcs_instance_family} \\\n",
    "            auto_resume=True \\\n",
    "            auto_suspend_secs=300\").collect()"
   ]
  },
  {
   "cell_type": "code",
   "execution_count": null,
   "id": "7a9b5250-7582-4d08-896f-6cad6208b38c",
   "metadata": {
    "collapsed": false,
    "language": "python",
    "name": "cell33"
   },
   "outputs": [],
   "source": [
    "# create the service with the latest version of the model\n",
    "latest_version.create_service(service_name=service_name,\n",
    "                  service_compute_pool=compute_pool_name,\n",
    "                  image_repo=image_repo_name,\n",
    "                  build_external_access_integration=\"ALLOW_ALL_INTEGRATION\",\n",
    "                  max_instances=int(num_spcs_nodes),\n",
    "                  ingress_enabled=True)"
   ]
  },
  {
   "cell_type": "markdown",
   "id": "8afa6582",
   "metadata": {},
   "source": [
    "## Suspend the service and pool"
   ]
  },
  {
   "cell_type": "code",
   "execution_count": null,
   "id": "81fef058",
   "metadata": {},
   "outputs": [],
   "source": [
    "session.sql(\"alter service \"+service_name_without_namespace+\" suspend\")\n",
    "session.sql(\"alter compute pool \"+compute_pool_name+\" suspend\")"
   ]
  }
 ],
 "metadata": {
  "kernelspec": {
   "display_name": "Streamlit Notebook",
   "name": "streamlit"
  },
  "lastEditStatus": {
   "authorEmail": "",
   "authorId": "294214370341",
   "authorName": "",
   "lastEditTime": 1740455447148,
   "notebookId": "wf4rt23eudhcn5oorwvg",
   "sessionId": "5b3f9a45-80cd-41e0-8cea-5239cc52890e"
  }
 },
 "nbformat": 4,
 "nbformat_minor": 5
}
