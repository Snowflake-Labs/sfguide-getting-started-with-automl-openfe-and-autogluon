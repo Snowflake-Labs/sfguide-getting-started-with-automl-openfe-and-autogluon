{
 "cells": [
  {
   "cell_type": "markdown",
   "id": "5029c33d-d0b7-49a9-b7e6-a7f4b1ae847d",
   "metadata": {
    "collapsed": false,
    "name": "snowflake_ml"
   },
   "source": [
    "# AutoML end-to-end with OpenFE and AutoGluon\n",
    "This example notebook uses [Snowflake ML](https://docs.snowflake.com/en/developer-guide/snowflake-ml/overview) and the training dataset created from the Feature Store. \n",
    "\n",
    "The dataset based on the [Boston Housing Dataset](https://www.kaggle.com/code/prasadperera/the-boston-housing-dataset) and has features created by [OpenFE](https://openfe-document.readthedocs.io/en/latest/). \n",
    "\n",
    "This notebook creates a model to predict the median house value in neighborhoods.\n",
    "\n",
    "UNSUPPORTED BY SNOWFLAKE - CUSTOMER SUPPORTED ONLY\n",
    "Copyright (c) 2025 Snowflake Inc. All rights reserved."
   ]
  },
  {
   "cell_type": "code",
   "execution_count": null,
   "id": "81ac55d7-6474-42c9-97d6-9863b836522f",
   "metadata": {
    "collapsed": false,
    "language": "python",
    "name": "original_package_list"
   },
   "outputs": [],
   "source": [
    "# save a list of the current packages, so we can filter them out later when deploying\n",
    "!pip freeze > original_packages.txt"
   ]
  },
  {
   "cell_type": "code",
   "execution_count": null,
   "id": "3775908f-ca36-4846-8f38-5adca39217f2",
   "metadata": {
    "collapsed": false,
    "language": "python",
    "name": "create_snowflake_session"
   },
   "outputs": [],
   "source": [
    "# Import python packages\n",
    "import streamlit as st\n",
    "import pandas as pd\n",
    "\n",
    "# We can also use Snowpark for our analyses!\n",
    "from snowflake.snowpark.context import get_active_session\n",
    "session = get_active_session()"
   ]
  },
  {
   "cell_type": "code",
   "execution_count": null,
   "id": "a45d1bcc-2979-477b-904b-80dd828f41d2",
   "metadata": {
    "collapsed": false,
    "language": "sql",
    "name": "show_training_available"
   },
   "outputs": [],
   "source": [
    "show tables like 'DEMO_BOSTON_HOUSING_%'"
   ]
  },
  {
   "cell_type": "code",
   "execution_count": null,
   "id": "baf39989-da33-4005-8b53-0892781a838e",
   "metadata": {
    "collapsed": false,
    "language": "python",
    "name": "set_variables"
   },
   "outputs": [],
   "source": [
    "# input data for feature engineering. Note: this dataset has all uppercase column names\n",
    "table_name = 'DEMO_BOSTON_HOUSING_TRAINING_2025_02_20'\n",
    "# feature to be predicted \n",
    "target_feature = 'MEDV'\n",
    "# unique / key column name\n",
    "feature_store_join_key = 'ID'"
   ]
  },
  {
   "cell_type": "code",
   "execution_count": null,
   "id": "f4bf8325-21a4-431f-8c64-35ba7c14852d",
   "metadata": {
    "codeCollapsed": false,
    "collapsed": false,
    "language": "python",
    "name": "packge_imports"
   },
   "outputs": [],
   "source": [
    "# import numpy\n",
    "import numpy as np\n",
    "\n",
    "# Snowpark ML\n",
    "from snowflake.ml.modeling.xgboost import XGBRegressor, XGBClassifier\n",
    "from snowflake.ml._internal.utils import identifier\n",
    "from snowflake.ml.registry import Registry\n",
    "\n",
    "# used to create train and test datasets\n",
    "from sklearn.model_selection import train_test_split\n",
    "from sklearn.pipeline import Pipeline\n",
    "from sklearn.compose import ColumnTransformer\n",
    "\n",
    "# for plots\n",
    "import seaborn as sns\n",
    "import matplotlib.pyplot as plt\n",
    "\n",
    "#Snowflake feature store\n",
    "from snowflake.ml.feature_store import FeatureStore, FeatureView, Entity, CreationMode\n",
    "\n",
    "# helper to set entry details based on Notebook\n",
    "import os\n"
   ]
  },
  {
   "cell_type": "code",
   "execution_count": null,
   "id": "dbc99ea7-bcc2-4840-b030-9952a5bec2ea",
   "metadata": {
    "collapsed": false,
    "language": "python",
    "name": "read_data_from_snowflake"
   },
   "outputs": [],
   "source": [
    "# get data from Snowflake. This is a public dataset\n",
    "data = session.table(table_name).to_pandas()\n",
    "data.head()"
   ]
  },
  {
   "cell_type": "markdown",
   "id": "b5158b81-aeef-4627-af05-7ab2b23cf8c9",
   "metadata": {
    "collapsed": false,
    "name": "data_description"
   },
   "source": [
    "## Dataset Details\n",
    "Each record in the database describes a Boston suburb or town. The data was drawn from the Boston Standard Metropolitan Statistical Area (SMSA) in 1970.\n",
    "\n",
    "| **Name**    | **Description**                                                           |\n",
    "|---------|-----------------------------------------------------------------------|\n",
    "| CRIM    | per capita crime rate by town                                         |\n",
    "| ZN      | proportion of residential land zoned for lots over 25000 sq.ft.       |\n",
    "| INDUS   | proportion of non-retail business acres per town                      |\n",
    "| CHAS    | Charles River dummy variable (= 1 if tract bounds river; 0 otherwise) |\n",
    "| NOX     | nitric oxides concentration (parts per 10 million)                    |\n",
    "| RM      | average number of rooms per dwelling                                  |\n",
    "| AGE     | proportion of owner-occupied units built prior to 1940                |\n",
    "| DIS     | weighted distances to five Boston employment centres                  |\n",
    "| RAD     | index of accessibility to radial highways                             |\n",
    "| TAX     | full-value property-tax rate per 10000usd                             |\n",
    "| PTRATIO | pupil-teacher ratio by town                                           |\n",
    "| LSTAT   | % lower status of the population                                      |"
   ]
  },
  {
   "cell_type": "code",
   "execution_count": null,
   "id": "eb6cd758-e9a1-496f-90d7-b2488821bb74",
   "metadata": {
    "collapsed": false,
    "language": "python",
    "name": "target_and_input_feaures"
   },
   "outputs": [],
   "source": [
    "# identify the target the we will be predicting and remove it from the data used from training (inputs)\n",
    "target = data[target_feature]\n",
    "inputs = data\n",
    "inputs.drop(feature_store_join_key, axis=1, inplace=True)"
   ]
  },
  {
   "cell_type": "code",
   "execution_count": null,
   "id": "c481a108-f4a8-45a3-8082-4a7744efd870",
   "metadata": {
    "collapsed": false,
    "language": "python",
    "name": "cell5"
   },
   "outputs": [],
   "source": [
    "inputs.drop('AUTOFE_F_5', axis=1, inplace=True)\n",
    "inputs.drop('AUTOFE_F_17', axis=1, inplace=True)\n"
   ]
  },
  {
   "cell_type": "code",
   "execution_count": null,
   "id": "11e4886a-6547-4470-bc69-739436eed1b7",
   "metadata": {
    "collapsed": false,
    "language": "python",
    "name": "create_split"
   },
   "outputs": [],
   "source": [
    "# create create a train and test dataset\n",
    "\n",
    "x_train, x_test, y_train, y_test = train_test_split(inputs, target, test_size=0.2, random_state=42)\n",
    "print(x_train.shape)\n",
    "print(y_train.shape)\n",
    "\n",
    "print(x_test.shape)\n",
    "print(y_test.shape)"
   ]
  },
  {
   "cell_type": "code",
   "execution_count": null,
   "id": "ebd2d734-2759-4016-b258-5e97180b174b",
   "metadata": {
    "collapsed": false,
    "language": "python",
    "name": "check_table_includes_engineered_features"
   },
   "outputs": [],
   "source": [
    "# check the new features\n",
    "x_train.head()"
   ]
  },
  {
   "cell_type": "code",
   "execution_count": null,
   "id": "a71dd1d6-8393-487f-9c7e-a2696bd6e6c0",
   "metadata": {
    "collapsed": false,
    "language": "python",
    "name": "handle_one_hot_encoding"
   },
   "outputs": [],
   "source": [
    "categorical_column_names = x_train.select_dtypes(include=['object','category']).columns\n",
    "if len(categorical_column_names) >0:\n",
    "    print(\"One hot encoding for \"+str(categorical_column_names.to_list()))\n",
    "    x_train = pd.get_dummies(x_train, columns=categorical_column_names, drop_first=True)"
   ]
  },
  {
   "cell_type": "code",
   "execution_count": null,
   "id": "ba9de5e3-8336-4343-b9b2-106363d68858",
   "metadata": {
    "collapsed": false,
    "language": "python",
    "name": "define_training_features"
   },
   "outputs": [],
   "source": [
    "feature_columns = [col for col in x_train.columns if col != target_feature]\n",
    "label_column = target_feature"
   ]
  },
  {
   "cell_type": "code",
   "execution_count": null,
   "id": "1ec3cf59-c5e7-4cb1-8ce3-750045224cee",
   "metadata": {
    "collapsed": false,
    "language": "python",
    "name": "define_xgboost_parameters"
   },
   "outputs": [],
   "source": [
    "predictor = XGBRegressor( input_cols=feature_columns, \n",
    "    label_cols=label_column, \n",
    "    max_depth=3\n",
    "  )"
   ]
  },
  {
   "cell_type": "code",
   "execution_count": null,
   "id": "8b5cc6ca-c478-4eba-b5e9-ac6c70b63987",
   "metadata": {
    "collapsed": false,
    "language": "python",
    "name": "train_xgboost"
   },
   "outputs": [],
   "source": [
    "a = predictor.fit(x_train)"
   ]
  },
  {
   "cell_type": "code",
   "execution_count": null,
   "id": "a2c22ed4-e324-422b-baf1-b253d57e9e81",
   "metadata": {
    "collapsed": false,
    "language": "python",
    "name": "create_predictions"
   },
   "outputs": [],
   "source": [
    "result = predictor.predict(x_train)"
   ]
  },
  {
   "cell_type": "code",
   "execution_count": null,
   "id": "9f8be879-6368-4f01-9069-717d0edd346f",
   "metadata": {
    "collapsed": false,
    "language": "python",
    "name": "show_predictions"
   },
   "outputs": [],
   "source": [
    "result"
   ]
  },
  {
   "cell_type": "code",
   "execution_count": null,
   "id": "a45280f1-9db0-48f5-86e9-948dfbb1da3a",
   "metadata": {
    "collapsed": false,
    "language": "python",
    "name": "evaluate"
   },
   "outputs": [],
   "source": [
    "# show the model results on the training data\n",
    "predictor.score(x_train)"
   ]
  },
  {
   "cell_type": "code",
   "execution_count": null,
   "id": "235dd7dd-878b-422b-8ff2-a84db5758367",
   "metadata": {
    "collapsed": false,
    "language": "python",
    "name": "create_results_with_new_features"
   },
   "outputs": [],
   "source": [
    "# merge the prediction with the original data using the index to ensure the correct prediction is matched with the correct row\n",
    "results = pd.concat([data, result['OUTPUT_'+target_feature]], axis=1)"
   ]
  },
  {
   "cell_type": "code",
   "execution_count": null,
   "id": "40e21592-16bf-41a7-86e9-b11c8a066f79",
   "metadata": {
    "codeCollapsed": false,
    "collapsed": false,
    "language": "python",
    "name": "show_results"
   },
   "outputs": [],
   "source": [
    "# show the results actual vs. predicted\n",
    "results[[target_feature,'OUTPUT_'+target_feature]].head()"
   ]
  },
  {
   "cell_type": "code",
   "execution_count": null,
   "id": "f1b569ca-19c3-42b4-9820-8e4de4789082",
   "metadata": {
    "collapsed": false,
    "language": "python",
    "name": "prices_vs_predicted_graph"
   },
   "outputs": [],
   "source": [
    "# Visualizing the differences between actual prices and predicted values\n",
    "plt.scatter(data[target_feature], results['OUTPUT_'+target_feature])\n",
    "plt.xlabel(\"Prices\")\n",
    "plt.ylabel(\"Predicted prices\")\n",
    "plt.title(\"Prices vs Predicted prices\")\n",
    "plt.show()\n"
   ]
  },
  {
   "cell_type": "code",
   "execution_count": null,
   "id": "5fa6cb39-dad4-475a-8523-f413b632ec4d",
   "metadata": {
    "collapsed": false,
    "language": "python",
    "name": "errors_graph"
   },
   "outputs": [],
   "source": [
    "# Checking Normality of errors\n",
    "sns.distplot(data[target_feature]-results['OUTPUT_'+target_feature])\n",
    "plt.title(\"Histogram of Residuals\")\n",
    "plt.xlabel(\"Residuals\")\n",
    "plt.ylabel(\"Frequency\")\n",
    "plt.show()"
   ]
  },
  {
   "cell_type": "code",
   "execution_count": null,
   "id": "92eba46e-9b79-4c16-98fd-f984a6367bd8",
   "metadata": {
    "collapsed": false,
    "language": "python",
    "name": "get_notebook_name"
   },
   "outputs": [],
   "source": [
    "# retrieve the notebook name as we will use it to name the feature store and deployment\n",
    "notebook_name = os.environ.get('OBJECT_NAME', 'NOTEBOOK')\n",
    "notebook_name = notebook_name.replace(' ','_')\n",
    "print(notebook_name)"
   ]
  },
  {
   "cell_type": "markdown",
   "id": "7c5366cd-7bc4-44f6-b3ee-58f47ae5beda",
   "metadata": {
    "name": "model_registry"
   },
   "source": [
    "## Model Registry"
   ]
  },
  {
   "cell_type": "code",
   "execution_count": null,
   "id": "2110b96f-53dd-405e-942e-81beb6ea35ac",
   "metadata": {
    "collapsed": false,
    "language": "python",
    "name": "get_model_registry_session"
   },
   "outputs": [],
   "source": [
    "from snowflake.ml.registry import Registry\n",
    "from snowflake.ml.model import custom_model\n",
    "from snowflake.ml.model import model_signature\n",
    "native_registry = Registry(session=session)\n",
    "#model_name = Notebook_name+\"_\"+predictor.model_best+\"_model\"\n",
    "\n",
    "model_name='BOSTON_MODEL_SNOWFLAKE'"
   ]
  },
  {
   "cell_type": "code",
   "execution_count": null,
   "id": "8db45ed6-c4d8-4a6a-969f-237c9203f2b2",
   "metadata": {
    "collapsed": false,
    "language": "python",
    "name": "installed_packages"
   },
   "outputs": [],
   "source": [
    "# so the model can be deployed correctly we need to identify what additional packages are required \n",
    "!pip freeze > installed_packages.txt\n",
    "\n",
    "!diff -u0 original_packages.txt installed_packages.txt | grep -e \"^+[a-zA-Z]\" > new_packages.txt"
   ]
  },
  {
   "cell_type": "code",
   "execution_count": null,
   "id": "1a689061-8bae-4c84-afb1-d5d76a9c1061",
   "metadata": {
    "collapsed": false,
    "language": "python",
    "name": "list_of_additional_packages_for_spcs"
   },
   "outputs": [],
   "source": [
    "# create a list of the packages that are required\n",
    "with open('new_packages.txt') as f:\n",
    "    need = f.read().splitlines()\n",
    "\n",
    "packages_needed = [x.replace('+', '').replace(' ', '') for x in need ]"
   ]
  },
  {
   "cell_type": "code",
   "execution_count": null,
   "id": "68ac9681-3dc6-4976-8b29-0186c7e42027",
   "metadata": {
    "collapsed": false,
    "language": "python",
    "name": "cell2"
   },
   "outputs": [],
   "source": [
    "mr = Registry(\n",
    "        session=session,\n",
    "        options={'enable_monitoring':False}\n",
    ")"
   ]
  },
  {
   "cell_type": "code",
   "execution_count": null,
   "id": "1b764812-b03c-4685-819b-bff3d221f851",
   "metadata": {
    "language": "sql",
    "name": "cell1"
   },
   "outputs": [],
   "source": []
  },
  {
   "cell_type": "code",
   "execution_count": null,
   "id": "815997ef-34d9-4724-8342-1e6253fcade7",
   "metadata": {
    "codeCollapsed": false,
    "collapsed": false,
    "language": "python",
    "name": "log_custom_model_registry"
   },
   "outputs": [],
   "source": [
    "# register the model\n",
    "from snowflake.ml import version\n",
    "\n",
    "mv = mr.log_model(\n",
    "    model_name=model_name,\n",
    "    model=predictor,\n",
    "    comment='Model created using notebook '+notebook_name,\n",
    ")"
   ]
  },
  {
   "cell_type": "code",
   "execution_count": null,
   "id": "c54495e0-6f8c-44fb-bf82-84046c276a05",
   "metadata": {
    "collapsed": false,
    "language": "python",
    "name": "show_model_versions"
   },
   "outputs": [],
   "source": [
    "# get the model versions\n",
    "mr.get_model(model_name).show_versions()"
   ]
  },
  {
   "cell_type": "code",
   "execution_count": null,
   "id": "18a95ae1-a707-45a3-a68a-22691aa40e28",
   "metadata": {
    "collapsed": false,
    "language": "python",
    "name": "get_latest_model"
   },
   "outputs": [],
   "source": [
    "# get the latest version\n",
    "default_version =  mr.get_model(model_name).version(\"LAST\")"
   ]
  },
  {
   "cell_type": "markdown",
   "id": "06e81829-ac50-465e-8035-6708d5579c1c",
   "metadata": {
    "name": "snowpark_container_services"
   },
   "source": [
    "## Snowpark Container Services"
   ]
  },
  {
   "cell_type": "code",
   "execution_count": null,
   "id": "8031514b",
   "metadata": {
    "vscode": {
     "languageId": "sql"
    }
   },
   "outputs": [],
   "source": [
    "# create a image repository \n",
    "create if not exists image repository DB.SERVICES.REPOSITORY;"
   ]
  },
  {
   "cell_type": "code",
   "execution_count": null,
   "id": "b5787a7a-ffbe-4f90-9baa-91c2c8c749a1",
   "metadata": {
    "collapsed": false,
    "language": "python",
    "name": "define_spcs_parameters"
   },
   "outputs": [],
   "source": [
    "# spcs deployment details\n",
    "compute_pool_name = \"INFERENCE_CP\"\n",
    "image_repo_name = f\"DB.SERVICES.REPOSITORY\"\n",
    "num_spcs_nodes = '1'\n",
    "spcs_instance_family = 'CPU_X64_M'\n",
    "service_name_without_namespace = 'INFERENCE_SERVICE'\n",
    "service_name = f'DB.PUBLIC.{service_name_without_namespace}'\n",
    "print(service_name)"
   ]
  },
  {
   "cell_type": "code",
   "execution_count": null,
   "id": "7cc5da18-99ad-4472-909a-a3860f65b4d0",
   "metadata": {
    "collapsed": false,
    "language": "python",
    "name": "create_compute_pool"
   },
   "outputs": [],
   "source": [
    "# create compute pool\n",
    "session.sql(f\"create compute pool if not exists {compute_pool_name} \\\n",
    "            min_nodes={num_spcs_nodes} \\\n",
    "            max_nodes={num_spcs_nodes} \\\n",
    "            instance_family={spcs_instance_family} \\\n",
    "            auto_resume=True \\\n",
    "            auto_suspend_secs=300\").collect()"
   ]
  },
  {
   "cell_type": "code",
   "execution_count": null,
   "id": "f8b3da72-ad23-4181-8a64-56d939673389",
   "metadata": {
    "codeCollapsed": false,
    "collapsed": false,
    "language": "python",
    "name": "create_service"
   },
   "outputs": [],
   "source": [
    "# create the service with the latest version of the model\n",
    "default_version.create_service(service_name=service_name,\n",
    "                  service_compute_pool=compute_pool_name,\n",
    "                  image_repo=image_repo_name,\n",
    "                  build_external_access_integration=\"ALLOW_ALL_INTEGRATION\",\n",
    "                  max_instances=int(num_spcs_nodes),\n",
    "                  ingress_enabled=True)"
   ]
  },
  {
   "cell_type": "code",
   "execution_count": null,
   "id": "7cfbe2dd-77dc-4348-b0e5-1dca5f9b9c7c",
   "metadata": {
    "collapsed": false,
    "language": "python",
    "name": "service_status"
   },
   "outputs": [],
   "source": [
    "# check the service is created and running\n",
    "session.sql(\"show services like '\"+service_name_without_namespace+\"'\")"
   ]
  },
  {
   "cell_type": "code",
   "execution_count": null,
   "id": "77d0a166-b23c-400d-8ba2-5f6af4a6766e",
   "metadata": {
    "collapsed": false,
    "language": "python",
    "name": "service_endpoint"
   },
   "outputs": [],
   "source": [
    "session.sql(\"show endpoints in service \"+service_name_without_namespace)"
   ]
  },
  {
   "cell_type": "code",
   "execution_count": null,
   "id": "6c00477f-08ba-4529-bd5a-3f5d27f24b17",
   "metadata": {
    "collapsed": false,
    "language": "python",
    "name": "show_test_table"
   },
   "outputs": [],
   "source": [
    "# show test dataframe\n",
    "type(x_train)\n"
   ]
  },
  {
   "cell_type": "code",
   "execution_count": null,
   "id": "955f7de1-fac8-413b-85c7-1407cf7f1c3e",
   "metadata": {
    "codeCollapsed": false,
    "collapsed": false,
    "language": "python",
    "name": "predict_on_test_data"
   },
   "outputs": [],
   "source": [
    "# make predictions using model deployed to SPCS\n",
    "start = time.time()\n",
    "service_predictions = default_version.run(x_train,function_name=\"predict\",\n",
    "                                         service_name=service_name_without_namespace)\n",
    "service_predictions\n",
    "finish = time.time()\n",
    "print(\"Elapsed Seconds: \"+str(finish-start))\n",
    "print(\"Rows: \"+str(x_train.shape[0]))\n",
    "print(\"Columns: \"+str(x_train.shape[-1]))\n"
   ]
  },
  {
   "cell_type": "code",
   "execution_count": null,
   "id": "dd8c5c03-5c02-4f6d-9880-6d0053443abf",
   "metadata": {
    "language": "python",
    "name": "explain"
   },
   "outputs": [],
   "source": [
    "# make predictions using model deployed to SPCS\n",
    "start = time.time()\n",
    "service_predictions = default_version.run(x_train,function_name=\"explain\",\n",
    "                                         service_name=service_name_without_namespace)\n",
    "service_predictions\n",
    "finish = time.time()\n",
    "print(\"Elapsed Seconds: \"+str(finish-start))\n",
    "print(\"Rows: \"+str(x_train.shape[0]))\n",
    "print(\"Columns: \"+str(x_train.shape[-1]))\n"
   ]
  },
  {
   "cell_type": "markdown",
   "id": "1420bd1e-f316-4e65-974e-d211d9f2b880",
   "metadata": {
    "collapsed": false,
    "name": "suspend_service"
   },
   "source": [
    "## Suspend the service and pool"
   ]
  },
  {
   "cell_type": "code",
   "execution_count": null,
   "id": "220297df-4832-4fbf-9983-7ffe659f07eb",
   "metadata": {
    "collapsed": false,
    "language": "python",
    "name": "suspend_service_compute_pool"
   },
   "outputs": [],
   "source": [
    "#session.sql(\"alter service \"+service_name_without_namespace+\" suspend\")\n",
    "#session.sql(\"alter compute pool \"+compute_pool_name+\" suspend\")"
   ]
  }
 ],
 "metadata": {
  "kernelspec": {
   "display_name": "Streamlit Notebook",
   "name": "streamlit"
  },
  "lastEditStatus": {
   "authorEmail": "eric.gudgion@snowflake.com",
   "authorId": "367534575326",
   "authorName": "EGUDGION",
   "lastEditTime": 1743009307588,
   "notebookId": "idssuykgdpuoujo5yfq3",
   "sessionId": "df50d2f2-ca9b-4830-8c57-e9e347c237af"
  }
 },
 "nbformat": 4,
 "nbformat_minor": 5
}
