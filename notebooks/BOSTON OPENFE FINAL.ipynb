{
 "cells": [
  {
   "cell_type": "markdown",
   "id": "5029c33d-d0b7-49a9-b7e6-a7f4b1ae847d",
   "metadata": {
    "collapsed": false,
    "name": "openfe"
   },
   "source": [
    "# AutoML end-to-end with OpenFE and AutoGluon\n",
    "This example notebook uses [OpenFE](https://openfe-document.readthedocs.io/en/latest/) and the [Boston Housing Dataset](https://www.kaggle.com/code/prasadperera/the-boston-housing-dataset) to create new features that are saved into the Feature Store and can be used for Machine Learning."
   ]
  },
  {
   "cell_type": "markdown",
   "id": "c6ef15d5",
   "metadata": {},
   "source": [
    "# UNSUPPORTED BY SNOWFLAKE - CUSTOMER SUPPORTED ONLY\n",
    "\n",
    "# Copyright (c) 2025 Snowflake Inc. All rights reserved."
   ]
  },
  {
   "cell_type": "code",
   "execution_count": null,
   "id": "8d50cbf4-0c8d-4950-86cb-114990437ac9",
   "metadata": {
    "collapsed": false,
    "language": "python",
    "name": "install_packages"
   },
   "outputs": [],
   "source": [
    "# Install the OpenFE package\n",
    "!pip install openfe --quiet"
   ]
  },
  {
   "cell_type": "code",
   "execution_count": null,
   "id": "fc025963-712e-475d-adbc-77315419cc28",
   "metadata": {
    "collapsed": false,
    "language": "python",
    "name": "variable_settings"
   },
   "outputs": [],
   "source": [
    "# input data for feature engineering\n",
    "table_name = 'DEMO_BOSTON_HOUSING'\n",
    "# feature to be predicted\n",
    "target_feature = 'medv'\n",
    "# unique / key column name\n",
    "feature_store_join_key = 'ID'"
   ]
  },
  {
   "cell_type": "code",
   "execution_count": null,
   "id": "92eba46e-9b79-4c16-98fd-f984a6367bd8",
   "metadata": {
    "collapsed": false,
    "language": "python",
    "name": "get_notebook_name"
   },
   "outputs": [],
   "source": [
    "# retrieve the notebook name as we will use it to name the feature store and deployment\n",
    "notebook_name = os.environ.get('OBJECT_NAME', 'NOTEBOOK')\n",
    "notebook_name = notebook_name.replace(' ','_')\n",
    "print(\"Name that will be used to register features and other artifacts: \"+notebook_name)"
   ]
  },
  {
   "cell_type": "code",
   "execution_count": null,
   "id": "3775908f-ca36-4846-8f38-5adca39217f2",
   "metadata": {
    "collapsed": false,
    "language": "python",
    "name": "create_snowflake_session"
   },
   "outputs": [],
   "source": [
    "# Import python packages\n",
    "import streamlit as st\n",
    "import pandas as pd\n",
    "\n",
    "# We can also use Snowpark for our analyses!\n",
    "from snowflake.snowpark.context import get_active_session\n",
    "session = get_active_session()"
   ]
  },
  {
   "cell_type": "code",
   "execution_count": null,
   "id": "f4bf8325-21a4-431f-8c64-35ba7c14852d",
   "metadata": {
    "collapsed": false,
    "language": "python",
    "name": "packge_imports"
   },
   "outputs": [],
   "source": [
    "# import numpy\n",
    "import numpy as np\n",
    "\n",
    "# used for feature engineering\n",
    "from openfe import OpenFE, transform, tree_to_formula\n",
    "\n",
    "# used to creat train and test datasets\n",
    "from sklearn.model_selection import train_test_split\n",
    "from sklearn.pipeline import Pipeline\n",
    "from sklearn.compose import ColumnTransformer\n",
    "\n",
    "#Snowflake feature store\n",
    "from snowflake.ml.feature_store import FeatureStore, FeatureView, Entity, CreationMode\n",
    "\n",
    "# helper to set entry details based on Notebook\n",
    "import os\n",
    "import datetime\n",
    "\n",
    "# helper for extracting new features\n",
    "import re"
   ]
  },
  {
   "cell_type": "code",
   "execution_count": null,
   "id": "dbc99ea7-bcc2-4840-b030-9952a5bec2ea",
   "metadata": {
    "collapsed": false,
    "language": "python",
    "name": "read_data_from_snowflake"
   },
   "outputs": [],
   "source": [
    "# get data from Snowflake. This is a public dataset\n",
    "data = session.table(table_name).to_pandas()\n",
    "data.head()"
   ]
  },
  {
   "cell_type": "markdown",
   "id": "b5158b81-aeef-4627-af05-7ab2b23cf8c9",
   "metadata": {
    "collapsed": false,
    "name": "data_description"
   },
   "source": [
    "## Dataset Details\n",
    "Each record in the database describes a Boston suburb or town. The data was drawn from the Boston Standard Metropolitan Statistical Area (SMSA) in 1970.\n",
    "\n",
    "| **Name**    | **Description**                                                           |\n",
    "|---------|-----------------------------------------------------------------------|\n",
    "| CRIM    | per capita crime rate by town                                         |\n",
    "| ZN      | proportion of residential land zoned for lots over 25000 sq.ft.       |\n",
    "| INDUS   | proportion of non-retail business acres per town                      |\n",
    "| CHAS    | Charles River dummy variable (= 1 if tract bounds river; 0 otherwise) |\n",
    "| NOX     | nitric oxides concentration (parts per 10 million)                    |\n",
    "| RM      | average number of rooms per dwelling                                  |\n",
    "| AGE     | proportion of owner-occupied units built prior to 1940                |\n",
    "| DIS     | weighted distances to five Boston employment centres                  |\n",
    "| RAD     | index of accessibility to radial highways                             |\n",
    "| TAX     | full-value property-tax rate per 10000usd                             |\n",
    "| PTRATIO | pupil-teacher ratio by town                                           |\n",
    "| LSTAT   | % lower status of the population                                      |\n",
    "| ID      | column used for Feature Store joins - represents suburb               |"
   ]
  },
  {
   "cell_type": "code",
   "execution_count": null,
   "id": "eb6cd758-e9a1-496f-90d7-b2488821bb74",
   "metadata": {
    "collapsed": false,
    "language": "python",
    "name": "target_and_input_feaures"
   },
   "outputs": [],
   "source": [
    "# identify the target the we will be predicting and remove it from the data used from training (inputs)\n",
    "target = data.pop(target_feature)\n",
    "inputs = data\n",
    "join_key = data.pop(feature_store_join_key)"
   ]
  },
  {
   "cell_type": "code",
   "execution_count": null,
   "id": "6cac7acd-5e58-47c7-8299-a761c7283555",
   "metadata": {
    "collapsed": false,
    "language": "python",
    "name": "create_split"
   },
   "outputs": [],
   "source": [
    "# create a train and test dataset\n",
    "\n",
    "x_train, x_test, y_train, y_test = train_test_split(inputs, target, test_size=0.2, random_state=42)\n",
    "print(x_train.shape)\n",
    "print(y_train.shape)\n",
    "\n",
    "print(x_test.shape)\n",
    "print(y_test.shape)"
   ]
  },
  {
   "cell_type": "code",
   "execution_count": null,
   "id": "4eeba37c-17ea-4563-b284-cc8a3b2eca03",
   "metadata": {
    "collapsed": false,
    "language": "python",
    "name": "create_new_features"
   },
   "outputs": [],
   "source": [
    "# create a pipeline to transform the data this will result in set of new features\n",
    "ofe = OpenFE()\n",
    "\n",
    "features = ofe.fit(data=x_train, label=y_train)"
   ]
  },
  {
   "cell_type": "code",
   "execution_count": null,
   "id": "b12ea3b1-e95b-4676-aa39-23d003093385",
   "metadata": {
    "codeCollapsed": false,
    "collapsed": false,
    "language": "python",
    "name": "create_test_train_with_new_features"
   },
   "outputs": [],
   "source": [
    "# add the new features to the training and test datasets\n",
    "train_f, test_f = transform(x_train, x_test, features, n_jobs=1) \n",
    "train_f[target_feature] = target\n",
    "train_f[feature_store_join_key] = join_key"
   ]
  },
  {
   "cell_type": "code",
   "execution_count": null,
   "id": "ebd2d734-2759-4016-b258-5e97180b174b",
   "metadata": {
    "collapsed": false,
    "language": "python",
    "name": "check_table_includes_engineered_features"
   },
   "outputs": [],
   "source": [
    "# check the new features\n",
    "train_f.head()"
   ]
  },
  {
   "cell_type": "code",
   "execution_count": null,
   "id": "8a4786f4-b1ca-46f5-a34c-874ed32ec8e3",
   "metadata": {
    "collapsed": false,
    "language": "python",
    "name": "parse_new_features"
   },
   "outputs": [],
   "source": [
    "# Create the sql for feature store. Groupby and Combine operations are ignored\n",
    "\n",
    "# the first generated feature default name is autoFE_f_0\n",
    "i = train_f.columns.get_loc('autoFE_f_0')-1\n",
    "\n",
    "#feature_view_sql = 'select \"crim\", \"zn\", \"indus\", \"chas\", \"nox\", \"rm\", \"age\", \"dis\", \"rad\", \"tax\", \"ptratio\", \"lstat\", \"ID\"'\n",
    "feature_view_sql = 'select *'\n",
    "feature_dict = dict()\n",
    "\n",
    "for feature in ofe.new_features_list:\n",
    "    i = i +1\n",
    "    #print(str(train_f.columns[i])+\" \"+str(tree_to_formula(feature)))\n",
    "    new_feature_name = train_f.columns[i]\n",
    "    new_feature_transform = tree_to_formula(feature)\n",
    "\n",
    "    if new_feature_transform.startswith('Combine'):\n",
    "        continue\n",
    "\n",
    "    if new_feature_transform.startswith('max('):\n",
    "        colnames = re.sub(r'([a-zA-Z]+)', r'\"\\1\"', new_feature_transform)\n",
    "        feature_view_sql = feature_view_sql +\", array_max([\"+colnames[6:].replace(\")\",\"]\")+\") as \"+new_feature_name\n",
    "        feature_dict[new_feature_name] = 'defined as array_max(['+colnames[6:].replace(\")\",\"]\")+')'\n",
    "        continue\n",
    "\n",
    "    if not new_feature_transform.startswith('Group'):\n",
    "       colnames = re.sub(r'([a-zA-Z]+)', r'\"\\1\"', new_feature_transform)\n",
    "       # fix up function name\n",
    "       if colnames.startswith('\"'):\n",
    "            colnames = colnames[1:]\n",
    "            colnames = colnames.replace('\"','',1)\n",
    "\n",
    "       feature_view_sql = str(feature_view_sql) +', '+str(colnames)+' as '+str(new_feature_name)\n",
    "       feature_dict[new_feature_name] = 'defined as '+colnames\n",
    "\n",
    "feature_view_sql = feature_view_sql + ' from '+table_name\n",
    "print(\"Feature Store SQL:\")\n",
    "print(feature_view_sql)"
   ]
  },
  {
   "cell_type": "markdown",
   "id": "0340b334-2278-45b1-bd8e-7c13cd4e730e",
   "metadata": {
    "name": "feature_store"
   },
   "source": [
    "## Use FeatureStore to save the features that OpenFE created "
   ]
  },
  {
   "cell_type": "code",
   "execution_count": null,
   "id": "90aa53c6-bfdc-4075-a9ed-76bc425d313c",
   "metadata": {
    "collapsed": false,
    "language": "python",
    "name": "create_feature_store"
   },
   "outputs": [],
   "source": [
    "# connect to the feature store in the current database and schema\n",
    "# if the feature store does not exist, it will be created\n",
    "\n",
    "fs = FeatureStore(\n",
    "    session=session, \n",
    "    database=session.get_current_database(), \n",
    "    name=session.get_current_schema(), \n",
    "    default_warehouse=session.get_current_warehouse(),\n",
    "    creation_mode=CreationMode.CREATE_IF_NOT_EXIST\n",
    ")"
   ]
  },
  {
   "cell_type": "code",
   "execution_count": null,
   "id": "1a212d21-2d6a-4e02-bf4a-a9bebb0fabc6",
   "metadata": {
    "collapsed": false,
    "language": "python",
    "name": "get_or_create_entity"
   },
   "outputs": [],
   "source": [
    "# register a new entity if it does not exist\n",
    "\n",
    "try:\n",
    "    #retrieve existing entity\n",
    "    entity = fs.get_entity(notebook_name) \n",
    "    print('Retrieved existing entity')\n",
    "except:\n",
    "    #define new entity\n",
    "    entity = Entity(\n",
    "        name = notebook_name,\n",
    "        join_keys = [feature_store_join_key],\n",
    "        desc = \"OpenFE created features from Notebook \"+notebook_name)\n",
    "    #register\n",
    "    fs.register_entity(entity)\n",
    "    print(\"Registered new entity\")"
   ]
  },
  {
   "cell_type": "code",
   "execution_count": null,
   "id": "dbbba7e4-859b-46a0-957e-d39ba51d0cd8",
   "metadata": {
    "collapsed": false,
    "language": "python",
    "name": "create_dataframe_for_feature_view"
   },
   "outputs": [],
   "source": [
    "# select the feature view that was created with the features from OpenFE\n",
    "\n",
    "feature_df = session.sql(feature_view_sql)\n",
    "\n",
    "feature_df.explain()"
   ]
  },
  {
   "cell_type": "code",
   "execution_count": null,
   "id": "72810341-9567-45d0-81b2-024ceb5bedb2",
   "metadata": {
    "collapsed": false,
    "language": "python",
    "name": "define_feature_view"
   },
   "outputs": [],
   "source": [
    "# register the feature view created with OpenFE in the feature store\n",
    "# call it version 1 and overwrite if it already exists\n",
    "\n",
    "feature_fv = FeatureView(\n",
    "    name=notebook_name+\"_VIEW\",\n",
    "    entities=[entity],\n",
    "    feature_df=feature_df,\n",
    "    desc=\"OpenFE generated feature view from notebook \"+notebook_name,\n",
    ").attach_feature_desc(feature_dict)\n",
    "\n",
    "registered_fv_v1 = fs.register_feature_view(feature_fv, version=\"1\", overwrite=True)"
   ]
  },
  {
   "cell_type": "code",
   "execution_count": null,
   "id": "dcd6175a-7aa8-4358-a8da-50e54190f930",
   "metadata": {
    "collapsed": false,
    "language": "python",
    "name": "show_feature_views"
   },
   "outputs": [],
   "source": [
    "# show the feature view that was created\n",
    "\n",
    "fs.list_feature_views()"
   ]
  },
  {
   "cell_type": "code",
   "execution_count": null,
   "id": "5e051af9-68ee-4f78-91b2-3157c4027151",
   "metadata": {
    "collapsed": false,
    "language": "python",
    "name": "list_of_entities"
   },
   "outputs": [],
   "source": [
    "# get the entity based on the join key from the table that was defined earlier\n",
    "\n",
    "entity_df = session.sql(\"select \"+feature_store_join_key+\" from \"+table_name)\n"
   ]
  },
  {
   "cell_type": "code",
   "execution_count": null,
   "id": "bdc69f0e-34f3-4b6d-9d3a-3b90fae29964",
   "metadata": {
    "collapsed": false,
    "language": "python",
    "name": "generate_training_set"
   },
   "outputs": [],
   "source": [
    "# create a training set based on the registered feature view\n",
    "\n",
    "training_df = fs.generate_training_set(\n",
    "    spine_df=entity_df,\n",
    "    features=[registered_fv_v1]\n",
    ").to_pandas()"
   ]
  },
  {
   "cell_type": "code",
   "execution_count": null,
   "id": "7f8a2b96-711e-438d-9460-f6f57c31cd48",
   "metadata": {
    "collapsed": false,
    "language": "python",
    "name": "fixup_column_names"
   },
   "outputs": [],
   "source": [
    "# uppercase the columns names, it will be easier later.\n",
    "\n",
    "training_df.columns = training_df.columns.str.upper()\n",
    "training_df"
   ]
  },
  {
   "cell_type": "code",
   "execution_count": null,
   "id": "6271dc6f-f22f-4ce1-aefd-3910e4f28057",
   "metadata": {
    "collapsed": false,
    "language": "python",
    "name": "write_training_table"
   },
   "outputs": [],
   "source": [
    "# write the training data from feature store to a table to training.\n",
    "# we keep a copy for compliance and reproducabilty\n",
    "\n",
    "timestamp = datetime.datetime.now().strftime(\"%Y_%m_%d\")\n",
    "training_table = table_name+\"_TRAINING_\"+timestamp\n",
    "\n",
    "print(\"Writing table \"+training_table+\" use this table for model training.\")\n",
    "session.write_pandas(training_df, table_name=training_table, auto_create_table=True)"
   ]
  },
  {
   "cell_type": "markdown",
   "id": "3eff1057-bc89-41ae-8050-e1953ebb25db",
   "metadata": {
    "collapsed": false,
    "name": "next_steps"
   },
   "source": [
    "Now use one of the training notebooks to train a model using the above training table."
   ]
  }
 ],
 "metadata": {
  "kernelspec": {
   "display_name": "Streamlit Notebook",
   "name": "streamlit"
  },
  "lastEditStatus": {
   "authorEmail": "eric.gudgion@snowflake.com",
   "authorId": "367534575326",
   "authorName": "EGUDGION",
   "lastEditTime": 1740061105788,
   "notebookId": "m3kjruynhzj7c2ap7yhr",
   "sessionId": "c09a99db-c130-4abe-991b-b6fc2a709705"
  }
 },
 "nbformat": 4,
 "nbformat_minor": 5
}
