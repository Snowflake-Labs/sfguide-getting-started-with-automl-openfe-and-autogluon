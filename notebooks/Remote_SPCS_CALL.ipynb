{
 "cells": [
  {
   "cell_type": "code",
   "execution_count": null,
   "metadata": {},
   "outputs": [],
   "source": [
    "# Install required libraries\n",
    "!pip install snowflake-connector-python pandas\n",
    "!pip install pandas "
   ]
  },
  {
   "cell_type": "code",
   "execution_count": null,
   "metadata": {},
   "outputs": [],
   "source": [
    "# UNSUPPORTED BY SNOWFLAKE - CUSTOMER SUPPORTED ONLY\n",
    "\n",
    "# Copyright (c) 2025 Snowflake Inc. All rights reserved."
   ]
  },
  {
   "cell_type": "code",
   "execution_count": null,
   "metadata": {},
   "outputs": [],
   "source": [
    "# Import necessary libraries\n",
    "#import snowflake.connector\n",
    "import pandas as pd\n",
    "\n",
    "# Use the new Container Services keypair authentication method\n",
    "from generateJWT import JWTGenerator\n",
    "\n",
    "# other supporting libraries\n",
    "from datetime import timedelta\n",
    "import argparse\n",
    "import logging\n",
    "import sys\n",
    "import requests\n",
    "import json\n"
   ]
  },
  {
   "cell_type": "code",
   "execution_count": null,
   "metadata": {},
   "outputs": [],
   "source": [
    "account = '<org>-<account>'\n",
    "user = 'username'.upper()\n",
    "role = 'SPCS_ROLE'\n",
    "private_key_file_path = '/Users/rsa/rsa_key.pem'\n",
    "endpoint = '<generated-endpoint>.snowflakecomputing.app'\n",
    "endpoint_path = ''"
   ]
  },
  {
   "cell_type": "code",
   "execution_count": null,
   "metadata": {},
   "outputs": [],
   "source": [
    "# Helper functions that connect to Snowflake\n",
    "logger = logging.getLogger(__name__)\n",
    "renewal_delay = 54\n",
    "lifetime = 59\n",
    "\n",
    "def _get_token():\n",
    "  token = JWTGenerator(account, user, private_key_file_path, timedelta(minutes=lifetime),\n",
    "            timedelta(minutes=renewal_delay)).get_token()\n",
    "  logger.info(\"Key Pair JWT: %s\" % token)\n",
    "  return token\n",
    "\n",
    "def token_exchange(token, role, endpoint, snowflake_account_url, snowflake_account):\n",
    "  scope_role = f'session:role:{role}' if role is not None else None\n",
    "  scope = f'{scope_role} {endpoint}' if scope_role is not None else endpoint\n",
    "  data = {\n",
    "    'grant_type': 'urn:ietf:params:oauth:grant-type:jwt-bearer',\n",
    "    'scope': scope,\n",
    "    'assertion': token,\n",
    "  }\n",
    "  logger.info(data)\n",
    "  url = f'https://{snowflake_account}.snowflakecomputing.com/oauth/token'\n",
    "  if snowflake_account_url:\n",
    "    url =       f'{snowflake_account_url}/oauth/token'\n",
    "  logger.info(\"oauth url: %s\" %url)\n",
    "  response = requests.post(url, data=data)\n",
    "  logger.info(\"snowflake jwt : %s\" % response.text)\n",
    "  assert 200 == response.status_code, \"unable to get snowflake token\"\n",
    "  return response.text\n",
    "\n",
    "def connect_to_spcs(method, token, url, data=None):\n",
    "  # Create a request to the ingress endpoint with authz.\n",
    "  headers = {'Authorization': f'Snowflake Token=\"{token}\"'}\n",
    "  if method == 'POST':\n",
    "    response = requests.post(f'{url}', headers=headers, data=json.dumps(data))\n",
    "  else:\n",
    "    response = requests.get(f'{url}', headers=headers)\n",
    "\n",
    "  if response.status_code != 200:\n",
    "    print(f\"Error: {response.text}\")\n",
    "    return None\n",
    "\n",
    "  if response.headers.get('content-type').startswith('application/json'):\n",
    "    json_object = response.json()\n",
    "    df = pd.DataFrame(json_object, index=[0])\n",
    "  else:\n",
    "    if \"\\n\" in str(response.text):\n",
    "      # clean up some data responses and convert to dataframe\n",
    "      print(\"response.text: \"+str( response.text))\n",
    "      temp = response.text\n",
    "      rows = [x.split() for x in temp.split(\"\\\\n\") if x]\n",
    "      df = pd.DataFrame(rows[1:], columns=rows[0])\n",
    "    else:\n",
    "      # convert string to json and then to dataframe\n",
    "      df = response.text\n",
    "      \n",
    "  return df\n"
   ]
  },
  {
   "cell_type": "code",
   "execution_count": null,
   "metadata": {},
   "outputs": [],
   "source": [
    "# connection requests to use the JWT token\n",
    "snowflake_account_url = 'https://'+account+'.snowflakecomputing.com'\n",
    "token = _get_token()\n",
    "snowflake_jwt = token_exchange(token,endpoint=endpoint, role=role,\n",
    "                  snowflake_account_url=snowflake_account_url,\n",
    "                  snowflake_account=account)\n"
   ]
  },
  {
   "cell_type": "code",
   "execution_count": null,
   "metadata": {},
   "outputs": [],
   "source": [
    "# reads the csv file using numpy\n",
    "import numpy as np\n",
    "df = np.loadtxt('Boston_Snowflake_NO_ID.csv', delimiter=',', skiprows=1)\n",
    "\n",
    "# for testing, just use the first row, otherwise we could batch the data\n",
    "df = df[:1]"
   ]
  },
  {
   "cell_type": "code",
   "execution_count": null,
   "metadata": {},
   "outputs": [],
   "source": [
    "import pprint\n",
    "print(\"Input data\")\n",
    "pprint.pprint(df)\n",
    "\n",
    "# convert the numpy array to a list of lists\n",
    "data={\"data\": np.column_stack([range(df.shape[0]), df]).tolist()}\n",
    "\n",
    "print(\"Payload for request\")\n",
    "pprint.pprint(data)\n",
    "\n",
    "#send request to SPCS\n",
    "spcs_url=f'https://{endpoint}/predict'\n",
    "result = connect_to_spcs('POST', snowflake_jwt, spcs_url, data)\n",
    "\n",
    "# display the result\n",
    "print(result)\n"
   ]
  },
  {
   "cell_type": "code",
   "execution_count": null,
   "metadata": {},
   "outputs": [],
   "source": [
    "# Rather than the HTTP POST call, the SQL function for the model could be called using Snowpark\n",
    "\n",
    "from snowflake.snowpark import Session\n",
    "\n",
    "connection_parameters = {\n",
    "  \"account\": \"<org>-<account>\",\n",
    "  \"user\": \"<username>\",\n",
    "  \"role\": \"SPCS_ROLE\",\n",
    "  \"database\": \"<database>\",\n",
    "  \"schema\": \"<schema>\",\n",
    "  \"warehouse\": \"xsmall\",\n",
    "  \"password\": \"<password-or-ras-key>\",\n",
    "}\n",
    "\n",
    "# Create a new session\n",
    "session = Session.builder.configs(connection_parameters).create()"
   ]
  },
  {
   "cell_type": "code",
   "execution_count": null,
   "metadata": {},
   "outputs": [],
   "source": [
    "# get table to score\n",
    "input_dataframe = session.read.table('<database>.<schema>.<table>')"
   ]
  },
  {
   "cell_type": "code",
   "execution_count": null,
   "metadata": {},
   "outputs": [],
   "source": [
    "\n",
    "%pip install snowflake-ml-python \"snowflake-connector-python[pandas]\" --quiet\n"
   ]
  },
  {
   "cell_type": "code",
   "execution_count": null,
   "metadata": {},
   "outputs": [],
   "source": [
    "# Install snowflake-ml-python\n",
    "from snowflake.ml.registry import registry\n",
    "\n",
    "# get the models function name for this model/version\n",
    "reg = registry.Registry(session=session, database_name='<database>', schema_name='<schema>')\n",
    "mv = reg.get_model('BOSTON_MODEL').version('GIANT_PUMA_1')\n",
    "mv.run(input_dataframe, function_name='PREDICT')"
   ]
  },
  {
   "cell_type": "code",
   "execution_count": null,
   "metadata": {},
   "outputs": [],
   "source": [
    "results = mv.run(input_dataframe, function_name='PREDICT')"
   ]
  },
  {
   "cell_type": "code",
   "execution_count": null,
   "metadata": {},
   "outputs": [],
   "source": [
    "print(results.show())\n"
   ]
  },
  {
   "cell_type": "code",
   "execution_count": null,
   "metadata": {},
   "outputs": [],
   "source": [
    "import pandas as pd"
   ]
  },
  {
   "cell_type": "code",
   "execution_count": null,
   "metadata": {},
   "outputs": [],
   "source": [
    "# alternative method to call the model using SQL\n",
    "sql = 'WITH mv AS MODEL \"BOSTON_MODEL\" VERSION \"GIANT_PUMA_1\" SELECT *,mv ! \"PREDICT\"(<column-names>) FROM <database>.<schema>.<table>'"
   ]
  },
  {
   "cell_type": "code",
   "execution_count": null,
   "metadata": {},
   "outputs": [],
   "source": [
    "results_sql = session.sql(sql)"
   ]
  },
  {
   "cell_type": "code",
   "execution_count": null,
   "metadata": {},
   "outputs": [],
   "source": [
    "print(results.show())\n"
   ]
  }
 ],
 "metadata": {
  "kernelspec": {
   "display_name": "Python 3",
   "language": "python",
   "name": "python3"
  },
  "language_info": {
   "codemirror_mode": {
    "name": "ipython",
    "version": 3
   },
   "file_extension": ".py",
   "mimetype": "text/x-python",
   "name": "python",
   "nbconvert_exporter": "python",
   "pygments_lexer": "ipython3",
   "version": "3.10.11"
  }
 },
 "nbformat": 4,
 "nbformat_minor": 2
}
